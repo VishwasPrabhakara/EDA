{
  "nbformat": 4,
  "nbformat_minor": 0,
  "metadata": {
    "colab": {
      "provenance": []
    },
    "kernelspec": {
      "name": "python3",
      "display_name": "Python 3"
    }
  },
  "cells": [
    {
      "cell_type": "code",
      "source": [
        "import pandas as pd\n",
        "import numpy as np\n",
        "import numpy.linalg as linalg\n",
        "import os\n",
        "import sys\n",
        "import cmath\n",
        "import matplotlib.pyplot as plt\n",
        "import matplotlib.cm as cm\n",
        "plt.style.use('seaborn-whitegrid')\n",
        "%matplotlib inline"
      ],
      "metadata": {
        "id": "onlv1yINI7z6"
      },
      "execution_count": null,
      "outputs": []
    },
    {
      "cell_type": "code",
      "metadata": {
        "id": "uV3Bp4vVPSv7"
      },
      "source": [
        "## Mount Google drive folder if running in Colab\n",
        "if('google.colab' in sys.modules):\n",
        "    from google.colab import drive\n",
        "    drive.mount('/content/drive', force_remount = True)\n",
        "    DIR = '/content/drive/My Drive/Colab Notebooks/Test_Codes'\n",
        "    DATA_DIR = DIR + '/Data/'\n",
        "    os.chdir(DIR)\n",
        "else:\n",
        "    DATA_DIR = 'Data/'"
      ],
      "execution_count": null,
      "outputs": []
    },
    {
      "cell_type": "code",
      "source": [
        "## Define and plot a continuos sinusoid along with its sampled discrete version\n",
        "# Continuous sinusoid properties\n",
        "f = 5 # cycle frequency\n",
        "omega = 2 * np.pi * f # angular frequency\n",
        "x = lambda t: np.sin(omega*t)\n",
        "\n",
        "# Range of time for plotting\n",
        "t_start = 0 # start time in sec\n",
        "t_end = 2 # end time in sec\n",
        "\n",
        "# Sampling information for creating the discrete sinusoid\n",
        "fs = 3.0*f # sampling frequency\n",
        "Ts = 1 / fs # sampling period\n",
        "\n",
        "fig, ax = plt.subplots(1, 1, figsize = (8,8))\n",
        "ax.plot(np.arange(t_start, t_end+1e-03, 1e-03), x(np.arange(t_start, t_end+1e-03, 1e-03)), 'k-', label = 'Continuous Sinusoid')\n",
        "ax.stem(np.arange(t_start, t_end+1e-10, Ts), x(np.arange(t_start, t_end++1e-10, Ts)), 'r-', label = 'Discrete Sinusoid')\n",
        "ax.set_xlabel('t (seconds)')\n",
        "ax.set_ylabel('x(t)')\n",
        "ax.set_xticks(np.arange(t_start, t_end+1e-01, 1e-01))\n",
        "ax.legend(loc = 'upper right')"
      ],
      "metadata": {
        "id": "AQTHuWpTnw7o"
      },
      "execution_count": null,
      "outputs": []
    },
    {
      "cell_type": "code",
      "source": [
        "# Load library for ECG data\n",
        "from scipy.misc import electrocardiogram\n",
        "x = electrocardiogram()"
      ],
      "metadata": {
        "id": "d6rEOe_eKWSk"
      },
      "execution_count": null,
      "outputs": []
    },
    {
      "cell_type": "code",
      "source": [
        "def plotveccomp(x, name = ' ', color = 'black', marker = '*', axis = None):\n",
        "  ax = axis\n",
        "  component_index = range(0, len(x))\n",
        "  ax.plot(component_index, x, color = color, marker = marker)\n",
        "  ax.plot(component_index, [np.mean(x)]*len(x), linewidth = 1, linestyle = 'dashed', color ='blue')\n",
        "  ax.plot(component_index, [np.mean(x) - np.std(x)]*len(x), linewidth = 1, linestyle = 'dashed', color ='red')\n",
        "  ax.plot(component_index, [np.mean(x) + np.std(x)]*len(x), linewidth = 1, linestyle = 'dashed', color ='red')\n",
        "  ax.set_xlabel('t (seconds)')\n",
        "  ax.set_ylabel('Voltage (millivolts)')\n",
        "  ax.set_title(name)"
      ],
      "metadata": {
        "id": "N2uVRnw_Lg7F"
      },
      "execution_count": null,
      "outputs": []
    },
    {
      "cell_type": "code",
      "source": [
        "# Plot ECG signal\n",
        "fig, ax = plt.subplots(1, 1, figsize = (6,6))\n",
        "fig.tight_layout(pad = 4.0)\n",
        "plotveccomp(x, 'ECG Signal', 'black', '', ax)"
      ],
      "metadata": {
        "id": "OMK33zA_LWSP"
      },
      "execution_count": null,
      "outputs": []
    },
    {
      "cell_type": "code",
      "source": [
        "## Create a discrete signal that we will analyze using the fourier transform\n",
        "# First create a continuous sinusoid which we will sample\n",
        "f1 = 1 # cycle frequency\n",
        "omega1 = 2 * np.pi * f1 # angular frequency\n",
        "f2 = 2 # cycle frequency\n",
        "omega2 = 2 * np.pi * f2 # angular frequency\n",
        "f3 = 4 # cycle frequency\n",
        "omega3 = 2 * np.pi * f3 # angular frequency\n",
        "# Function definition for the continuous sinusoid\n",
        "f = lambda t: 4*np.sin(omega1*t) + 10*np.sin(omega2*t) + 6*np.sin(omega3*t)\n",
        "\n",
        "# Sampling information for creating the discrete sinusoid\n",
        "fs = 4*f3 # sampling frequency (should be greater than 2 times the highest frequency in the signal)\n",
        "Ts = 1 / fs # sampling period\n",
        "\n",
        "# Range of time for creating the discrete sinusoid\n",
        "t_start = 0.0 # start time in sec\n",
        "t_end = 1.0 # end time in sec\n",
        "\n",
        "# Create the discrete sinuosid by sampling the continuous sinusoid\n",
        "x = f(np.arange(t_start, t_end+Ts, Ts))\n",
        "\n",
        "# Plot the continuous and discrete sinusoid\n",
        "fig, ax = plt.subplots(1, 1, figsize = (6,6))\n",
        "fig.tight_layout(pad = 4.0)\n",
        "ax.plot(np.arange(t_start, t_end+1e-03, 1e-03), f(np.arange(t_start, t_end+1e-03, 1e-03)), 'k-', label = 'Continuous Sinusoid')\n",
        "ax.stem(np.arange(t_start, t_end+1e-10, Ts), x, 'r-', label = 'Sampled Sinusoid')\n",
        "ax.legend(loc = 'upper right')\n",
        "ax.set_xlabel('t (seconds)')"
      ],
      "metadata": {
        "id": "VwCkF1vuQFe2"
      },
      "execution_count": null,
      "outputs": []
    },
    {
      "cell_type": "code",
      "source": [
        "x"
      ],
      "metadata": {
        "id": "xuJAeobxyw3q"
      },
      "execution_count": null,
      "outputs": []
    },
    {
      "cell_type": "code",
      "source": [
        "## Note that the sampled discrete sinusoid x can be treated as a vector.\n",
        "\n",
        "# Compute the discrete Fourier transform of x using the in-built\n",
        "# numpy function fft()\n",
        "X = np.fft.fft(x)\n",
        "print(X)\n",
        "\n",
        "# Plot the magnitude of the discrete Fourier transform vector\n",
        "fig, ax = plt.subplots(1, 1, figsize = (6,6))\n",
        "fig.tight_layout(pad = 4.0)\n",
        "ax.stem(range(0, len(X)), np.abs(X), 'k-')\n",
        "ax.set_xlabel('Frequency (Hz)')"
      ],
      "metadata": {
        "id": "qX_bJf6oZS_H"
      },
      "execution_count": null,
      "outputs": []
    },
    {
      "cell_type": "code",
      "source": [
        "## Compute the discrete Fourier transform of x from scratch\n",
        "n = len(x)\n",
        "\n",
        "# Initialize discrete Fourier transform matrix to zeros\n",
        "F = np.zeros((n, n))\n",
        "\n",
        "# Fill-in the entries of the F matrix column by column\n",
        "w = np.exp(-1j * ((2*np.pi)/n))\n",
        "F = w**(np.arange(n) * np.arange(n)[:, np.newaxis])\n",
        "\n",
        "# Compute the discrete Fourier transform\n",
        "X = np.dot(F, x)\n",
        "#print(X)\n",
        "\n",
        "# Plot the magnitude of the discrete Fourier transform vector\n",
        "fig, ax = plt.subplots(1, 1, figsize = (6,6))\n",
        "fig.tight_layout(pad = 4.0)\n",
        "ax.stem(range(0, len(X)), np.abs(X), 'k-')\n",
        "ax.set_xlabel('Frequency (Hz)')"
      ],
      "metadata": {
        "id": "gGVCmachbmXv"
      },
      "execution_count": null,
      "outputs": []
    },
    {
      "cell_type": "code",
      "source": [
        "F[:, 1]"
      ],
      "metadata": {
        "id": "PdLL_wb9z_nZ"
      },
      "execution_count": null,
      "outputs": []
    },
    {
      "cell_type": "code",
      "source": [
        "## Plot the discrete sinusoids corresponding to the real part of each column of F\n",
        "\n",
        "# Note that the discrete sinusoid x is simply a linear combination of the discrete\n",
        "# sinusoids that form the columns of the matrix F\n",
        "for j in range(n):\n",
        "  fig, ax = plt.subplots(1, 1, figsize = (6,6))\n",
        "  fig.tight_layout(pad = 4.0)\n",
        "  ax.stem(range(n), np.real(F[:, j]), 'r-')"
      ],
      "metadata": {
        "id": "ZIztR34ki55g"
      },
      "execution_count": null,
      "outputs": []
    }
  ]
}